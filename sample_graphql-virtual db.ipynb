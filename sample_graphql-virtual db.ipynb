{
 "cells": [
  {
   "cell_type": "code",
   "execution_count": null,
   "metadata": {},
   "outputs": [],
   "source": [
    "import graphene\n",
    "\n",
    "venues = {\n",
    "  '0': 'Big Hotel',\n",
    "  '1': 'Small Hotel',\n",
    "}\n",
    "\n",
    "class Venue(graphene.ObjectType):\n",
    "  address = graphene.String()\n",
    "\n",
    "class Event(graphene.ObjectType):\n",
    "  id = graphene.String()\n",
    "  host = graphene.String()\n",
    "  venue = graphene.Field(Venue)\n",
    "\n",
    "  def resolve_venue(self, *a, **k):\n",
    "    return Venue(address=venues.get(self.venue))\n",
    "\n",
    "class Query(graphene.ObjectType):\n",
    "  events = graphene.List(Event)\n",
    "\n",
    "  def resolve_events(self, info, *args, **kwargs):\n",
    "    ql_events = []\n",
    "\n",
    "    for sample in range(10):\n",
    "      ql_events.append(Event(\n",
    "        id=str(sample),\n",
    "        host=str(sample),\n",
    "        venue=str(sample % 2),\n",
    "      ))\n",
    "\n",
    "    return ql_events\n",
    "\n",
    "schema = graphene.Schema(query=Query)\n",
    "result = schema.execute('query { events { id, host, venue { address } } }')\n",
    "\n",
    "print(result.data)"
   ]
  }
 ],
 "metadata": {
  "kernelspec": {
   "display_name": "Python 3",
   "language": "python",
   "name": "python3"
  },
  "language_info": {
   "codemirror_mode": {
    "name": "ipython",
    "version": 3
   },
   "file_extension": ".py",
   "mimetype": "text/x-python",
   "name": "python",
   "nbconvert_exporter": "python",
   "pygments_lexer": "ipython3",
   "version": "3.7.3"
  }
 },
 "nbformat": 4,
 "nbformat_minor": 2
}
